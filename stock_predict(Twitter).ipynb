{
 "cells": [
  {
   "cell_type": "markdown",
   "metadata": {
    "id": "iqmZG3R-jfSz"
   },
   "source": [
    "API KEYS\n",
    "\n",
    "# Twitter API credentials (replace with your own keys)\n",
    "API_KEY = \"9ZuSoAvtCKX5mnlgKHPtTG6Pp\"\n",
    "API_SECRET = \"RGyBf7k2iVuCvsQCSvg9xfaw2NEdieGcNTiAcpnnoPQAWU3DfI\"\n",
    "ACCESS_TOKEN = \"1595122876658565120-L5ISVpHz7mJ1DfoeQMlCQmvLTBIGxu\"\n",
    "ACCESS_SECRET = \"nf5QIwEdZQJFfpNdqAl5qMNMR0WEooDiWAGNErzWEzove\"\n",
    "BEARER_TOKEN = \"AAAAAAAAAAAAAAAAAAAAAPzAxAEAAAAAQEDH%2FfozCYgxohhLy0P5ZWWIeSw%3DFglmRspmzQXuRCpqGxlQ5EUJOhvwctA9pUWqIucfN25jgYxPgW\"\n"
   ]
  },
  {
   "cell_type": "code",
   "execution_count": 16,
   "metadata": {
    "colab": {
     "base_uri": "https://localhost:8080/"
    },
    "executionInfo": {
     "elapsed": 3029,
     "status": "ok",
     "timestamp": 1732629297694,
     "user": {
      "displayName": "Sontene Uday Kiran",
      "userId": "05891271820559920473"
     },
     "user_tz": -330
    },
    "id": "ZC1CBFTNut_D",
    "outputId": "f45f3a2e-e4c8-4cae-f518-206d5e736899"
   },
   "outputs": [
    {
     "name": "stdout",
     "output_type": "stream",
     "text": [
      "Requirement already satisfied: tweepy in /usr/local/lib/python3.10/dist-packages (4.14.0)\n",
      "Requirement already satisfied: oauthlib<4,>=3.2.0 in /usr/local/lib/python3.10/dist-packages (from tweepy) (3.2.2)\n",
      "Requirement already satisfied: requests<3,>=2.27.0 in /usr/local/lib/python3.10/dist-packages (from tweepy) (2.32.3)\n",
      "Requirement already satisfied: requests-oauthlib<2,>=1.2.0 in /usr/local/lib/python3.10/dist-packages (from tweepy) (1.3.1)\n",
      "Requirement already satisfied: charset-normalizer<4,>=2 in /usr/local/lib/python3.10/dist-packages (from requests<3,>=2.27.0->tweepy) (3.4.0)\n",
      "Requirement already satisfied: idna<4,>=2.5 in /usr/local/lib/python3.10/dist-packages (from requests<3,>=2.27.0->tweepy) (3.10)\n",
      "Requirement already satisfied: urllib3<3,>=1.21.1 in /usr/local/lib/python3.10/dist-packages (from requests<3,>=2.27.0->tweepy) (2.2.3)\n",
      "Requirement already satisfied: certifi>=2017.4.17 in /usr/local/lib/python3.10/dist-packages (from requests<3,>=2.27.0->tweepy) (2024.8.30)\n"
     ]
    }
   ],
   "source": [
    "!pip install tweepy\n"
   ]
  },
  {
   "cell_type": "code",
   "execution_count": null,
   "metadata": {
    "colab": {
     "base_uri": "https://localhost:8080/"
    },
    "executionInfo": {
     "elapsed": 1003,
     "status": "ok",
     "timestamp": 1732629040148,
     "user": {
      "displayName": "Sontene Uday Kiran",
      "userId": "05891271820559920473"
     },
     "user_tz": -330
    },
    "id": "37KVIdZ4hyKf",
    "outputId": "bc35262b-45bd-46e9-b6cf-a6885e3531b6"
   },
   "outputs": [
    {
     "name": "stdout",
     "output_type": "stream",
     "text": [
      "                  Timestamp  \\\n",
      "0 2024-11-26 13:50:27+00:00   \n",
      "1 2024-11-26 13:50:27+00:00   \n",
      "2 2024-11-26 13:50:27+00:00   \n",
      "3 2024-11-26 13:50:27+00:00   \n",
      "4 2024-11-26 13:50:26+00:00   \n",
      "\n",
      "                                               Tweet  \\\n",
      "0  RT @cb_doge: BREAKING: Tesla excluded from EV ...   \n",
      "1  RT @libsoftiktok: This is insane. Tesla is the...   \n",
      "2  RT @DefiyantlyFree: The party who is telling y...   \n",
      "3  @theshortcut @Tesla_56 Worth the wait. 🍎and it...   \n",
      "4  RT @SteveInmanUIC: Bless Ya with Tesla\\nHighli...   \n",
      "\n",
      "                                       Cleaned_Tweet  \n",
      "0  RT  BREAKING Tesla excluded from EV Buyer Cred...  \n",
      "1  RT  This is insane Tesla is the largest auto m...  \n",
      "2  RT  The party who is telling you that Donald T...  \n",
      "3  Worth the wait and its ecosystem willingly ass...  \n",
      "4  RT  Bless Ya with Tesla\\nHighlights \\n\\nEdison...  \n"
     ]
    }
   ],
   "source": [
    "import tweepy\n",
    "import pandas as pd\n",
    "import re\n",
    "\n",
    "# Twitter API credentials (replace with your own keys)\n",
    "API_KEY = \"JgylaJVi2bVgurr5ZdlVmSf9G\"\n",
    "API_SECRET = \"oToTBcuxMbu9h8jKw1Hx9Fowwfiuoe2EUWgZCknIClVnYpINiU\"\n",
    "BEARER_TOKEN = 'AAAAAAAAAAAAAAAAAAAAAD4xxQEAAAAA1OMllFonuTYDDGFb01ra2Y%2FWl%2FQ%3D31tFcGxtXZGi5S80elbwJCzciqlqW3O2VpPx6yPoHkzR9O9NXN'\n",
    "# Function to clean tweets\n",
    "def clean_tweet(tweet):\n",
    "    tweet = re.sub(r\"http\\S+|www\\S+|https\\S+\", '', tweet, flags=re.MULTILINE)  # Remove URLs\n",
    "    tweet = re.sub(r'\\@\\w+|\\#', '', tweet)                                    # Remove mentions and hashtags\n",
    "    tweet = re.sub(r'[^\\w\\s]', '', tweet)                                     # Remove punctuation\n",
    "    return tweet.strip()\n",
    "\n",
    "# Function to fetch tweets using the v2 API\n",
    "def get_tweets_v2(keyword, count=100):\n",
    "    client = tweepy.Client(bearer_token=BEARER_TOKEN)\n",
    "    tweets = client.search_recent_tweets(\n",
    "        query=keyword,\n",
    "        max_results=min(count, 100),  # Max results per request is 100\n",
    "        tweet_fields=[\"created_at\", \"text\", \"lang\"]\n",
    "    )\n",
    "\n",
    "    if tweets.data:\n",
    "        # Extract relevant data\n",
    "        data = [[tweet.created_at, tweet.text] for tweet in tweets.data if tweet.lang == \"en\"]\n",
    "        df = pd.DataFrame(data, columns=[\"Timestamp\", \"Tweet\"])\n",
    "        df[\"Cleaned_Tweet\"] = df[\"Tweet\"].apply(clean_tweet)\n",
    "        return df\n",
    "    else:\n",
    "        print(\"No tweets found for the given keyword.\")\n",
    "        return pd.DataFrame(columns=[\"Timestamp\", \"Tweet\", \"Cleaned_Tweet\"])\n",
    "\n",
    "# Example: Fetching tweets related to \"Tesla\"\n",
    "if __name__ == \"__main__\":\n",
    "    keyword = \"Tesla\"\n",
    "    tweets_df = get_tweets_v2(keyword, count=50)  # Adjust count as needed\n",
    "    print(tweets_df.head())\n"
   ]
  },
  {
   "cell_type": "code",
   "execution_count": 5,
   "metadata": {
    "colab": {
     "base_uri": "https://localhost:8080/"
    },
    "executionInfo": {
     "elapsed": 4716,
     "status": "ok",
     "timestamp": 1732629101658,
     "user": {
      "displayName": "Sontene Uday Kiran",
      "userId": "05891271820559920473"
     },
     "user_tz": -330
    },
    "id": "KlZU3ssxkHQ0",
    "outputId": "b01c1aba-3bed-41b6-df39-2297f9f2701a"
   },
   "outputs": [
    {
     "name": "stdout",
     "output_type": "stream",
     "text": [
      "                  Timestamp  \\\n",
      "0 2024-11-26 13:50:27+00:00   \n",
      "1 2024-11-26 13:50:27+00:00   \n",
      "2 2024-11-26 13:50:27+00:00   \n",
      "3 2024-11-26 13:50:27+00:00   \n",
      "4 2024-11-26 13:50:26+00:00   \n",
      "\n",
      "                                               Tweet  \\\n",
      "0  RT @cb_doge: BREAKING: Tesla excluded from EV ...   \n",
      "1  RT @libsoftiktok: This is insane. Tesla is the...   \n",
      "2  RT @DefiyantlyFree: The party who is telling y...   \n",
      "3  @theshortcut @Tesla_56 Worth the wait. 🍎and it...   \n",
      "4  RT @SteveInmanUIC: Bless Ya with Tesla\\nHighli...   \n",
      "\n",
      "                                       Cleaned_Tweet  Sentiment  \\\n",
      "0  RT  BREAKING Tesla excluded from EV Buyer Cred...        0.0   \n",
      "1  RT  This is insane Tesla is the largest auto m...       -1.0   \n",
      "2  RT  The party who is telling you that Donald T...        0.0   \n",
      "3  Worth the wait and its ecosystem willingly ass...        0.1   \n",
      "4  RT  Bless Ya with Tesla\\nHighlights \\n\\nEdison...        0.0   \n",
      "\n",
      "  Sentiment_Label  \n",
      "0         Neutral  \n",
      "1        Negative  \n",
      "2         Neutral  \n",
      "3        Positive  \n",
      "4         Neutral  \n"
     ]
    }
   ],
   "source": [
    "from textblob import TextBlob\n",
    "\n",
    "# Function to analyze sentiment\n",
    "def analyze_sentiment(tweet):\n",
    "    analysis = TextBlob(tweet)\n",
    "    return analysis.sentiment.polarity\n",
    "\n",
    "# Apply sentiment analysis\n",
    "tweets_df[\"Sentiment\"] = tweets_df[\"Cleaned_Tweet\"].apply(analyze_sentiment)\n",
    "\n",
    "# Label sentiment as positive, neutral, or negative\n",
    "tweets_df[\"Sentiment_Label\"] = tweets_df[\"Sentiment\"].apply(\n",
    "    lambda x: \"Positive\" if x > 0 else (\"Negative\" if x < 0 else \"Neutral\")\n",
    ")\n",
    "\n",
    "print(tweets_df.head())\n"
   ]
  },
  {
   "cell_type": "code",
   "execution_count": 7,
   "metadata": {
    "colab": {
     "base_uri": "https://localhost:8080/"
    },
    "executionInfo": {
     "elapsed": 469,
     "status": "ok",
     "timestamp": 1732629160800,
     "user": {
      "displayName": "Sontene Uday Kiran",
      "userId": "05891271820559920473"
     },
     "user_tz": -330
    },
    "id": "p8sSo_B_mHFV",
    "outputId": "79339b95-e73f-4e3a-9198-b9b739b4f0d6"
   },
   "outputs": [
    {
     "name": "stdout",
     "output_type": "stream",
     "text": [
      "Common dates count: 0\n"
     ]
    }
   ],
   "source": [
    "tweets_df[\"Date\"] = tweets_df[\"Timestamp\"].dt.date\n",
    "\n",
    "# Now you can find the common dates\n",
    "common_dates = set(tweets_df[\"Date\"]).intersection(stock_data[\"Date\"])\n",
    "print(f\"Common dates count: {len(common_dates)}\")"
   ]
  },
  {
   "cell_type": "code",
   "execution_count": 8,
   "metadata": {
    "executionInfo": {
     "elapsed": 376,
     "status": "ok",
     "timestamp": 1732629167821,
     "user": {
      "displayName": "Sontene Uday Kiran",
      "userId": "05891271820559920473"
     },
     "user_tz": -330
    },
    "id": "Y30ItaSckJTi"
   },
   "outputs": [],
   "source": [
    "import numpy as np\n",
    "import pandas as pd\n",
    "from sklearn.model_selection import train_test_split\n",
    "from sklearn.ensemble import RandomForestClassifier\n",
    "from sklearn.metrics import classification_report, accuracy_score\n",
    "import yfinance as yf\n",
    "\n"
   ]
  },
  {
   "cell_type": "code",
   "execution_count": 9,
   "metadata": {
    "colab": {
     "base_uri": "https://localhost:8080/"
    },
    "executionInfo": {
     "elapsed": 477,
     "status": "ok",
     "timestamp": 1732629172916,
     "user": {
      "displayName": "Sontene Uday Kiran",
      "userId": "05891271820559920473"
     },
     "user_tz": -330
    },
    "id": "n5wqc5HFm54Y",
    "outputId": "0dde47fc-032a-43d6-8dd0-07ab10befb16"
   },
   "outputs": [
    {
     "name": "stderr",
     "output_type": "stream",
     "text": [
      "\r[*********************100%***********************]  1 of 1 completed\n"
     ]
    }
   ],
   "source": [
    "stock_data = yf.download(\"TSLA\", start=\"2023-01-01\", end=\"2023-12-01\")\n",
    "stock_data[\"Price_Change\"] = stock_data[\"Close\"].diff()\n",
    "stock_data[\"Movement\"] = stock_data[\"Price_Change\"].apply(lambda x: 1 if x > 0 else 0)\n"
   ]
  },
  {
   "cell_type": "code",
   "execution_count": 10,
   "metadata": {
    "executionInfo": {
     "elapsed": 1008,
     "status": "ok",
     "timestamp": 1732629177792,
     "user": {
      "displayName": "Sontene Uday Kiran",
      "userId": "05891271820559920473"
     },
     "user_tz": -330
    },
    "id": "cOlXzXnEnA3I"
   },
   "outputs": [],
   "source": [
    "# Reset index and ensure the \"Date\" column is in the proper format\n",
    "stock_data = stock_data.reset_index()  # Moves the index to a column\n",
    "stock_data[\"Date\"] = pd.to_datetime(stock_data[\"Date\"]).dt.date  # Ensure \"Date\" is of type datetime.date\n"
   ]
  },
  {
   "cell_type": "code",
   "execution_count": 11,
   "metadata": {
    "executionInfo": {
     "elapsed": 415,
     "status": "ok",
     "timestamp": 1732629183330,
     "user": {
      "displayName": "Sontene Uday Kiran",
      "userId": "05891271820559920473"
     },
     "user_tz": -330
    },
    "id": "7QS3dmU_nFIU"
   },
   "outputs": [],
   "source": [
    "tweets_data = {\n",
    "    \"Timestamp\": [\"2023-01-03\", \"2023-01-04\", \"2023-01-05\"],\n",
    "    \"Sentiment\": [0.5, -0.2, 0.1],  # Example sentiments (replace with actual sentiment scores)\n",
    "}\n",
    "tweets_df = pd.DataFrame(tweets_data)\n",
    "tweets_df[\"Timestamp\"] = pd.to_datetime(tweets_df[\"Timestamp\"])  # Ensure Timestamp is datetime\n",
    "tweets_df[\"Date\"] = tweets_df[\"Timestamp\"].dt.date"
   ]
  },
  {
   "cell_type": "code",
   "execution_count": 12,
   "metadata": {
    "colab": {
     "base_uri": "https://localhost:8080/"
    },
    "executionInfo": {
     "elapsed": 16,
     "status": "ok",
     "timestamp": 1732629187061,
     "user": {
      "displayName": "Sontene Uday Kiran",
      "userId": "05891271820559920473"
     },
     "user_tz": -330
    },
    "id": "WbxqFF8CnIr3",
    "outputId": "adef4bae-5480-4026-cbb7-3dd6694fbb2f"
   },
   "outputs": [
    {
     "name": "stderr",
     "output_type": "stream",
     "text": [
      "\r[*********************100%***********************]  1 of 1 completed\n"
     ]
    }
   ],
   "source": [
    "import yfinance as yf\n",
    "import pandas as pd\n",
    "\n",
    "# Download stock data\n",
    "stock_data = yf.download(\"TSLA\", start=\"2023-01-01\", end=\"2023-12-01\")\n",
    "stock_data[\"Price_Change\"] = stock_data[\"Close\"].diff()\n",
    "stock_data[\"Movement\"] = stock_data[\"Price_Change\"].apply(lambda x: 1 if x > 0 else 0)\n",
    "\n",
    "# Reset index and ensure the \"Date\" column is in the proper format\n",
    "stock_data = stock_data.reset_index()  # Moves the index to a column\n",
    "stock_data[\"Date\"] = pd.to_datetime(stock_data[\"Date\"]).dt.date  # Ensure \"Date\" is of type datetime.date\n",
    "\n",
    "# Ensure single-level columns\n",
    "stock_data.columns = stock_data.columns.get_level_values(0)\n",
    "\n",
    "# Merge dataframes\n",
    "merged_data = pd.merge(tweets_df, stock_data, on=\"Date\", how=\"inner\")\n"
   ]
  },
  {
   "cell_type": "code",
   "execution_count": 13,
   "metadata": {
    "executionInfo": {
     "elapsed": 378,
     "status": "ok",
     "timestamp": 1732629214038,
     "user": {
      "displayName": "Sontene Uday Kiran",
      "userId": "05891271820559920473"
     },
     "user_tz": -330
    },
    "id": "IG0ZCfCLv6fA"
   },
   "outputs": [],
   "source": [
    "# Feature engineering\n",
    "merged_data[\"Average_Sentiment\"] = merged_data.groupby(\"Date\")[\"Sentiment\"].transform(\"mean\")\n",
    "merged_data = merged_data.drop_duplicates(subset=\"Date\")\n",
    "features = merged_data[[\"Average_Sentiment\"]].fillna(0)\n",
    "target = merged_data[\"Movement\"]"
   ]
  },
  {
   "cell_type": "code",
   "execution_count": 14,
   "metadata": {
    "colab": {
     "base_uri": "https://localhost:8080/",
     "height": 80
    },
    "executionInfo": {
     "elapsed": 437,
     "status": "ok",
     "timestamp": 1732629229653,
     "user": {
      "displayName": "Sontene Uday Kiran",
      "userId": "05891271820559920473"
     },
     "user_tz": -330
    },
    "id": "UDAzNL4ev7vD",
    "outputId": "b3b712e4-a9b8-4404-9993-9cde6559d682"
   },
   "outputs": [
    {
     "data": {
      "text/html": [
       "<style>#sk-container-id-1 {\n",
       "  /* Definition of color scheme common for light and dark mode */\n",
       "  --sklearn-color-text: black;\n",
       "  --sklearn-color-line: gray;\n",
       "  /* Definition of color scheme for unfitted estimators */\n",
       "  --sklearn-color-unfitted-level-0: #fff5e6;\n",
       "  --sklearn-color-unfitted-level-1: #f6e4d2;\n",
       "  --sklearn-color-unfitted-level-2: #ffe0b3;\n",
       "  --sklearn-color-unfitted-level-3: chocolate;\n",
       "  /* Definition of color scheme for fitted estimators */\n",
       "  --sklearn-color-fitted-level-0: #f0f8ff;\n",
       "  --sklearn-color-fitted-level-1: #d4ebff;\n",
       "  --sklearn-color-fitted-level-2: #b3dbfd;\n",
       "  --sklearn-color-fitted-level-3: cornflowerblue;\n",
       "\n",
       "  /* Specific color for light theme */\n",
       "  --sklearn-color-text-on-default-background: var(--sg-text-color, var(--theme-code-foreground, var(--jp-content-font-color1, black)));\n",
       "  --sklearn-color-background: var(--sg-background-color, var(--theme-background, var(--jp-layout-color0, white)));\n",
       "  --sklearn-color-border-box: var(--sg-text-color, var(--theme-code-foreground, var(--jp-content-font-color1, black)));\n",
       "  --sklearn-color-icon: #696969;\n",
       "\n",
       "  @media (prefers-color-scheme: dark) {\n",
       "    /* Redefinition of color scheme for dark theme */\n",
       "    --sklearn-color-text-on-default-background: var(--sg-text-color, var(--theme-code-foreground, var(--jp-content-font-color1, white)));\n",
       "    --sklearn-color-background: var(--sg-background-color, var(--theme-background, var(--jp-layout-color0, #111)));\n",
       "    --sklearn-color-border-box: var(--sg-text-color, var(--theme-code-foreground, var(--jp-content-font-color1, white)));\n",
       "    --sklearn-color-icon: #878787;\n",
       "  }\n",
       "}\n",
       "\n",
       "#sk-container-id-1 {\n",
       "  color: var(--sklearn-color-text);\n",
       "}\n",
       "\n",
       "#sk-container-id-1 pre {\n",
       "  padding: 0;\n",
       "}\n",
       "\n",
       "#sk-container-id-1 input.sk-hidden--visually {\n",
       "  border: 0;\n",
       "  clip: rect(1px 1px 1px 1px);\n",
       "  clip: rect(1px, 1px, 1px, 1px);\n",
       "  height: 1px;\n",
       "  margin: -1px;\n",
       "  overflow: hidden;\n",
       "  padding: 0;\n",
       "  position: absolute;\n",
       "  width: 1px;\n",
       "}\n",
       "\n",
       "#sk-container-id-1 div.sk-dashed-wrapped {\n",
       "  border: 1px dashed var(--sklearn-color-line);\n",
       "  margin: 0 0.4em 0.5em 0.4em;\n",
       "  box-sizing: border-box;\n",
       "  padding-bottom: 0.4em;\n",
       "  background-color: var(--sklearn-color-background);\n",
       "}\n",
       "\n",
       "#sk-container-id-1 div.sk-container {\n",
       "  /* jupyter's `normalize.less` sets `[hidden] { display: none; }`\n",
       "     but bootstrap.min.css set `[hidden] { display: none !important; }`\n",
       "     so we also need the `!important` here to be able to override the\n",
       "     default hidden behavior on the sphinx rendered scikit-learn.org.\n",
       "     See: https://github.com/scikit-learn/scikit-learn/issues/21755 */\n",
       "  display: inline-block !important;\n",
       "  position: relative;\n",
       "}\n",
       "\n",
       "#sk-container-id-1 div.sk-text-repr-fallback {\n",
       "  display: none;\n",
       "}\n",
       "\n",
       "div.sk-parallel-item,\n",
       "div.sk-serial,\n",
       "div.sk-item {\n",
       "  /* draw centered vertical line to link estimators */\n",
       "  background-image: linear-gradient(var(--sklearn-color-text-on-default-background), var(--sklearn-color-text-on-default-background));\n",
       "  background-size: 2px 100%;\n",
       "  background-repeat: no-repeat;\n",
       "  background-position: center center;\n",
       "}\n",
       "\n",
       "/* Parallel-specific style estimator block */\n",
       "\n",
       "#sk-container-id-1 div.sk-parallel-item::after {\n",
       "  content: \"\";\n",
       "  width: 100%;\n",
       "  border-bottom: 2px solid var(--sklearn-color-text-on-default-background);\n",
       "  flex-grow: 1;\n",
       "}\n",
       "\n",
       "#sk-container-id-1 div.sk-parallel {\n",
       "  display: flex;\n",
       "  align-items: stretch;\n",
       "  justify-content: center;\n",
       "  background-color: var(--sklearn-color-background);\n",
       "  position: relative;\n",
       "}\n",
       "\n",
       "#sk-container-id-1 div.sk-parallel-item {\n",
       "  display: flex;\n",
       "  flex-direction: column;\n",
       "}\n",
       "\n",
       "#sk-container-id-1 div.sk-parallel-item:first-child::after {\n",
       "  align-self: flex-end;\n",
       "  width: 50%;\n",
       "}\n",
       "\n",
       "#sk-container-id-1 div.sk-parallel-item:last-child::after {\n",
       "  align-self: flex-start;\n",
       "  width: 50%;\n",
       "}\n",
       "\n",
       "#sk-container-id-1 div.sk-parallel-item:only-child::after {\n",
       "  width: 0;\n",
       "}\n",
       "\n",
       "/* Serial-specific style estimator block */\n",
       "\n",
       "#sk-container-id-1 div.sk-serial {\n",
       "  display: flex;\n",
       "  flex-direction: column;\n",
       "  align-items: center;\n",
       "  background-color: var(--sklearn-color-background);\n",
       "  padding-right: 1em;\n",
       "  padding-left: 1em;\n",
       "}\n",
       "\n",
       "\n",
       "/* Toggleable style: style used for estimator/Pipeline/ColumnTransformer box that is\n",
       "clickable and can be expanded/collapsed.\n",
       "- Pipeline and ColumnTransformer use this feature and define the default style\n",
       "- Estimators will overwrite some part of the style using the `sk-estimator` class\n",
       "*/\n",
       "\n",
       "/* Pipeline and ColumnTransformer style (default) */\n",
       "\n",
       "#sk-container-id-1 div.sk-toggleable {\n",
       "  /* Default theme specific background. It is overwritten whether we have a\n",
       "  specific estimator or a Pipeline/ColumnTransformer */\n",
       "  background-color: var(--sklearn-color-background);\n",
       "}\n",
       "\n",
       "/* Toggleable label */\n",
       "#sk-container-id-1 label.sk-toggleable__label {\n",
       "  cursor: pointer;\n",
       "  display: block;\n",
       "  width: 100%;\n",
       "  margin-bottom: 0;\n",
       "  padding: 0.5em;\n",
       "  box-sizing: border-box;\n",
       "  text-align: center;\n",
       "}\n",
       "\n",
       "#sk-container-id-1 label.sk-toggleable__label-arrow:before {\n",
       "  /* Arrow on the left of the label */\n",
       "  content: \"▸\";\n",
       "  float: left;\n",
       "  margin-right: 0.25em;\n",
       "  color: var(--sklearn-color-icon);\n",
       "}\n",
       "\n",
       "#sk-container-id-1 label.sk-toggleable__label-arrow:hover:before {\n",
       "  color: var(--sklearn-color-text);\n",
       "}\n",
       "\n",
       "/* Toggleable content - dropdown */\n",
       "\n",
       "#sk-container-id-1 div.sk-toggleable__content {\n",
       "  max-height: 0;\n",
       "  max-width: 0;\n",
       "  overflow: hidden;\n",
       "  text-align: left;\n",
       "  /* unfitted */\n",
       "  background-color: var(--sklearn-color-unfitted-level-0);\n",
       "}\n",
       "\n",
       "#sk-container-id-1 div.sk-toggleable__content.fitted {\n",
       "  /* fitted */\n",
       "  background-color: var(--sklearn-color-fitted-level-0);\n",
       "}\n",
       "\n",
       "#sk-container-id-1 div.sk-toggleable__content pre {\n",
       "  margin: 0.2em;\n",
       "  border-radius: 0.25em;\n",
       "  color: var(--sklearn-color-text);\n",
       "  /* unfitted */\n",
       "  background-color: var(--sklearn-color-unfitted-level-0);\n",
       "}\n",
       "\n",
       "#sk-container-id-1 div.sk-toggleable__content.fitted pre {\n",
       "  /* unfitted */\n",
       "  background-color: var(--sklearn-color-fitted-level-0);\n",
       "}\n",
       "\n",
       "#sk-container-id-1 input.sk-toggleable__control:checked~div.sk-toggleable__content {\n",
       "  /* Expand drop-down */\n",
       "  max-height: 200px;\n",
       "  max-width: 100%;\n",
       "  overflow: auto;\n",
       "}\n",
       "\n",
       "#sk-container-id-1 input.sk-toggleable__control:checked~label.sk-toggleable__label-arrow:before {\n",
       "  content: \"▾\";\n",
       "}\n",
       "\n",
       "/* Pipeline/ColumnTransformer-specific style */\n",
       "\n",
       "#sk-container-id-1 div.sk-label input.sk-toggleable__control:checked~label.sk-toggleable__label {\n",
       "  color: var(--sklearn-color-text);\n",
       "  background-color: var(--sklearn-color-unfitted-level-2);\n",
       "}\n",
       "\n",
       "#sk-container-id-1 div.sk-label.fitted input.sk-toggleable__control:checked~label.sk-toggleable__label {\n",
       "  background-color: var(--sklearn-color-fitted-level-2);\n",
       "}\n",
       "\n",
       "/* Estimator-specific style */\n",
       "\n",
       "/* Colorize estimator box */\n",
       "#sk-container-id-1 div.sk-estimator input.sk-toggleable__control:checked~label.sk-toggleable__label {\n",
       "  /* unfitted */\n",
       "  background-color: var(--sklearn-color-unfitted-level-2);\n",
       "}\n",
       "\n",
       "#sk-container-id-1 div.sk-estimator.fitted input.sk-toggleable__control:checked~label.sk-toggleable__label {\n",
       "  /* fitted */\n",
       "  background-color: var(--sklearn-color-fitted-level-2);\n",
       "}\n",
       "\n",
       "#sk-container-id-1 div.sk-label label.sk-toggleable__label,\n",
       "#sk-container-id-1 div.sk-label label {\n",
       "  /* The background is the default theme color */\n",
       "  color: var(--sklearn-color-text-on-default-background);\n",
       "}\n",
       "\n",
       "/* On hover, darken the color of the background */\n",
       "#sk-container-id-1 div.sk-label:hover label.sk-toggleable__label {\n",
       "  color: var(--sklearn-color-text);\n",
       "  background-color: var(--sklearn-color-unfitted-level-2);\n",
       "}\n",
       "\n",
       "/* Label box, darken color on hover, fitted */\n",
       "#sk-container-id-1 div.sk-label.fitted:hover label.sk-toggleable__label.fitted {\n",
       "  color: var(--sklearn-color-text);\n",
       "  background-color: var(--sklearn-color-fitted-level-2);\n",
       "}\n",
       "\n",
       "/* Estimator label */\n",
       "\n",
       "#sk-container-id-1 div.sk-label label {\n",
       "  font-family: monospace;\n",
       "  font-weight: bold;\n",
       "  display: inline-block;\n",
       "  line-height: 1.2em;\n",
       "}\n",
       "\n",
       "#sk-container-id-1 div.sk-label-container {\n",
       "  text-align: center;\n",
       "}\n",
       "\n",
       "/* Estimator-specific */\n",
       "#sk-container-id-1 div.sk-estimator {\n",
       "  font-family: monospace;\n",
       "  border: 1px dotted var(--sklearn-color-border-box);\n",
       "  border-radius: 0.25em;\n",
       "  box-sizing: border-box;\n",
       "  margin-bottom: 0.5em;\n",
       "  /* unfitted */\n",
       "  background-color: var(--sklearn-color-unfitted-level-0);\n",
       "}\n",
       "\n",
       "#sk-container-id-1 div.sk-estimator.fitted {\n",
       "  /* fitted */\n",
       "  background-color: var(--sklearn-color-fitted-level-0);\n",
       "}\n",
       "\n",
       "/* on hover */\n",
       "#sk-container-id-1 div.sk-estimator:hover {\n",
       "  /* unfitted */\n",
       "  background-color: var(--sklearn-color-unfitted-level-2);\n",
       "}\n",
       "\n",
       "#sk-container-id-1 div.sk-estimator.fitted:hover {\n",
       "  /* fitted */\n",
       "  background-color: var(--sklearn-color-fitted-level-2);\n",
       "}\n",
       "\n",
       "/* Specification for estimator info (e.g. \"i\" and \"?\") */\n",
       "\n",
       "/* Common style for \"i\" and \"?\" */\n",
       "\n",
       ".sk-estimator-doc-link,\n",
       "a:link.sk-estimator-doc-link,\n",
       "a:visited.sk-estimator-doc-link {\n",
       "  float: right;\n",
       "  font-size: smaller;\n",
       "  line-height: 1em;\n",
       "  font-family: monospace;\n",
       "  background-color: var(--sklearn-color-background);\n",
       "  border-radius: 1em;\n",
       "  height: 1em;\n",
       "  width: 1em;\n",
       "  text-decoration: none !important;\n",
       "  margin-left: 1ex;\n",
       "  /* unfitted */\n",
       "  border: var(--sklearn-color-unfitted-level-1) 1pt solid;\n",
       "  color: var(--sklearn-color-unfitted-level-1);\n",
       "}\n",
       "\n",
       ".sk-estimator-doc-link.fitted,\n",
       "a:link.sk-estimator-doc-link.fitted,\n",
       "a:visited.sk-estimator-doc-link.fitted {\n",
       "  /* fitted */\n",
       "  border: var(--sklearn-color-fitted-level-1) 1pt solid;\n",
       "  color: var(--sklearn-color-fitted-level-1);\n",
       "}\n",
       "\n",
       "/* On hover */\n",
       "div.sk-estimator:hover .sk-estimator-doc-link:hover,\n",
       ".sk-estimator-doc-link:hover,\n",
       "div.sk-label-container:hover .sk-estimator-doc-link:hover,\n",
       ".sk-estimator-doc-link:hover {\n",
       "  /* unfitted */\n",
       "  background-color: var(--sklearn-color-unfitted-level-3);\n",
       "  color: var(--sklearn-color-background);\n",
       "  text-decoration: none;\n",
       "}\n",
       "\n",
       "div.sk-estimator.fitted:hover .sk-estimator-doc-link.fitted:hover,\n",
       ".sk-estimator-doc-link.fitted:hover,\n",
       "div.sk-label-container:hover .sk-estimator-doc-link.fitted:hover,\n",
       ".sk-estimator-doc-link.fitted:hover {\n",
       "  /* fitted */\n",
       "  background-color: var(--sklearn-color-fitted-level-3);\n",
       "  color: var(--sklearn-color-background);\n",
       "  text-decoration: none;\n",
       "}\n",
       "\n",
       "/* Span, style for the box shown on hovering the info icon */\n",
       ".sk-estimator-doc-link span {\n",
       "  display: none;\n",
       "  z-index: 9999;\n",
       "  position: relative;\n",
       "  font-weight: normal;\n",
       "  right: .2ex;\n",
       "  padding: .5ex;\n",
       "  margin: .5ex;\n",
       "  width: min-content;\n",
       "  min-width: 20ex;\n",
       "  max-width: 50ex;\n",
       "  color: var(--sklearn-color-text);\n",
       "  box-shadow: 2pt 2pt 4pt #999;\n",
       "  /* unfitted */\n",
       "  background: var(--sklearn-color-unfitted-level-0);\n",
       "  border: .5pt solid var(--sklearn-color-unfitted-level-3);\n",
       "}\n",
       "\n",
       ".sk-estimator-doc-link.fitted span {\n",
       "  /* fitted */\n",
       "  background: var(--sklearn-color-fitted-level-0);\n",
       "  border: var(--sklearn-color-fitted-level-3);\n",
       "}\n",
       "\n",
       ".sk-estimator-doc-link:hover span {\n",
       "  display: block;\n",
       "}\n",
       "\n",
       "/* \"?\"-specific style due to the `<a>` HTML tag */\n",
       "\n",
       "#sk-container-id-1 a.estimator_doc_link {\n",
       "  float: right;\n",
       "  font-size: 1rem;\n",
       "  line-height: 1em;\n",
       "  font-family: monospace;\n",
       "  background-color: var(--sklearn-color-background);\n",
       "  border-radius: 1rem;\n",
       "  height: 1rem;\n",
       "  width: 1rem;\n",
       "  text-decoration: none;\n",
       "  /* unfitted */\n",
       "  color: var(--sklearn-color-unfitted-level-1);\n",
       "  border: var(--sklearn-color-unfitted-level-1) 1pt solid;\n",
       "}\n",
       "\n",
       "#sk-container-id-1 a.estimator_doc_link.fitted {\n",
       "  /* fitted */\n",
       "  border: var(--sklearn-color-fitted-level-1) 1pt solid;\n",
       "  color: var(--sklearn-color-fitted-level-1);\n",
       "}\n",
       "\n",
       "/* On hover */\n",
       "#sk-container-id-1 a.estimator_doc_link:hover {\n",
       "  /* unfitted */\n",
       "  background-color: var(--sklearn-color-unfitted-level-3);\n",
       "  color: var(--sklearn-color-background);\n",
       "  text-decoration: none;\n",
       "}\n",
       "\n",
       "#sk-container-id-1 a.estimator_doc_link.fitted:hover {\n",
       "  /* fitted */\n",
       "  background-color: var(--sklearn-color-fitted-level-3);\n",
       "}\n",
       "</style><div id=\"sk-container-id-1\" class=\"sk-top-container\"><div class=\"sk-text-repr-fallback\"><pre>RandomForestClassifier(random_state=42)</pre><b>In a Jupyter environment, please rerun this cell to show the HTML representation or trust the notebook. <br />On GitHub, the HTML representation is unable to render, please try loading this page with nbviewer.org.</b></div><div class=\"sk-container\" hidden><div class=\"sk-item\"><div class=\"sk-estimator fitted sk-toggleable\"><input class=\"sk-toggleable__control sk-hidden--visually\" id=\"sk-estimator-id-1\" type=\"checkbox\" checked><label for=\"sk-estimator-id-1\" class=\"sk-toggleable__label fitted sk-toggleable__label-arrow fitted\">&nbsp;&nbsp;RandomForestClassifier<a class=\"sk-estimator-doc-link fitted\" rel=\"noreferrer\" target=\"_blank\" href=\"https://scikit-learn.org/1.5/modules/generated/sklearn.ensemble.RandomForestClassifier.html\">?<span>Documentation for RandomForestClassifier</span></a><span class=\"sk-estimator-doc-link fitted\">i<span>Fitted</span></span></label><div class=\"sk-toggleable__content fitted\"><pre>RandomForestClassifier(random_state=42)</pre></div> </div></div></div></div>"
      ],
      "text/plain": [
       "RandomForestClassifier(random_state=42)"
      ]
     },
     "execution_count": 14,
     "metadata": {},
     "output_type": "execute_result"
    }
   ],
   "source": [
    "X_train, X_test, y_train, y_test = train_test_split(features, target, test_size=0.2, random_state=42)\n",
    "\n",
    "# Model training\n",
    "model = RandomForestClassifier(random_state=42)\n",
    "model.fit(X_train, y_train)\n"
   ]
  },
  {
   "cell_type": "code",
   "execution_count": 15,
   "metadata": {
    "colab": {
     "base_uri": "https://localhost:8080/"
    },
    "executionInfo": {
     "elapsed": 415,
     "status": "ok",
     "timestamp": 1732629276285,
     "user": {
      "displayName": "Sontene Uday Kiran",
      "userId": "05891271820559920473"
     },
     "user_tz": -330
    },
    "id": "LNT8Qd-BwJxC",
    "outputId": "43f9d379-2489-4857-ddb1-ec020710e4c3"
   },
   "outputs": [
    {
     "name": "stdout",
     "output_type": "stream",
     "text": [
      "Accuracy: 1.0\n",
      "Classification Report:\n",
      "               precision    recall  f1-score   support\n",
      "\n",
      "           0       1.00      1.00      1.00         1\n",
      "\n",
      "    accuracy                           1.00         1\n",
      "   macro avg       1.00      1.00      1.00         1\n",
      "weighted avg       1.00      1.00      1.00         1\n",
      "\n"
     ]
    }
   ],
   "source": [
    "# Predictions\n",
    "y_pred = model.predict(X_test)\n",
    "print(\"Accuracy:\", accuracy_score(y_test, y_pred))\n",
    "print(\"Classification Report:\\n\", classification_report(y_test, y_pred))"
   ]
  }
 ],
 "metadata": {
  "accelerator": "GPU",
  "colab": {
   "authorship_tag": "ABX9TyOSfFVS4V9YR+lFROHV+nTn",
   "gpuType": "T4",
   "provenance": []
  },
  "kernelspec": {
   "display_name": "Python 3",
   "name": "python3"
  },
  "language_info": {
   "name": "python"
  }
 },
 "nbformat": 4,
 "nbformat_minor": 0
}
